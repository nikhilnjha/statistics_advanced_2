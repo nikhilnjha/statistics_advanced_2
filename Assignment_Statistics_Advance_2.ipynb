{
  "nbformat": 4,
  "nbformat_minor": 0,
  "metadata": {
    "colab": {
      "provenance": []
    },
    "kernelspec": {
      "name": "python3",
      "display_name": "Python 3"
    },
    "language_info": {
      "name": "python"
    }
  },
  "cells": [
    {
      "cell_type": "markdown",
      "source": [
        "# Statistics Advance Part 1 Assignment"
      ],
      "metadata": {
        "id": "DYO-jpzwrDCO"
      }
    },
    {
      "cell_type": "markdown",
      "source": [
        "1. What is a random variable in probability theory?\n",
        " - A random variable is a variable that takes on numerical values based on the outcomes of a random phenomenon. It is a function that maps outcomes of a random process to numerical values.\n",
        "\n",
        "2. What are the types of random variables?\n",
        "  - There are two main types of random variables:\n",
        "    - Discrete Random Variables: Take on a finite or countable number of possible values.\n",
        "    - Continuous Random Variables: Take on an infinite number of possible values within a given range.\n",
        "\n",
        "3. What is the difference between discrete and continuous distributions?\n",
        "  - Discrete distributions represent variables that have distinct and separate values, while continuous distributions represent variables that can take any value within a range or interval.\n",
        "\n",
        "4. What are probability distribution functions (PDF)?\n",
        "  - A probability distribution function (PDF) describes the likelihood of different outcomes for a random variable. For continuous variables, the PDF represents the probability density, while for discrete variables, it gives the probability for each specific value.\n",
        "\n",
        "5. How do cumulative distribution functions (CDF) differ from probability distribution functions (PDF)?\n",
        "  - The CDF of a random variable represents the probability that the variable takes a value less than or equal to a specific point. In contrast, the PDF represents the probability density at a specific value for continuous variables or the exact probability for discrete variables.\n",
        "\n",
        "6. What is a discrete uniform distribution?\n",
        "  - A discrete uniform distribution is a probability distribution where each of the n outcomes has an equal chance of occurring.\n",
        "\n",
        "7. What are the key properties of a Bernoulli distribution?\n",
        "  - The Bernoulli distribution is a discrete distribution representing two possible outcomes: success (1) or failure (0). Key properties include:\n",
        "    - The mean is p.\n",
        "    - The variance is p(1 - p), where p is the probability of success.\n",
        "\n",
        "8. What is the binomial distribution, and how is it used in probability?\n",
        "  - The binomial distribution represents the number of successes in a fixed number of independent trials, each with the same probability of success. It is widely used for modeling the number of successful outcomes in experiments.\n",
        "\n",
        "9. What is the Poisson distribution and where is it applied?\n",
        "  - The Poisson distribution is a discrete distribution that expresses the probability of a given number of events occurring within a fixed interval of time or space. It is commonly used in scenarios like counting the number of emails received in an hour.\n",
        "\n",
        "10. What is a continuous uniform distribution?\n",
        "  - A continuous uniform distribution describes an equal probability for all values within a specific range [a, b]. The probability density is constant over this range.\n",
        "\n",
        "11. What are the characteristics of a normal distribution?\n",
        "  - The normal distribution is symmetric, bell-shaped, and defined by its mean and standard deviation . It is continuous and unbounded, with most values clustering around the mean.\n",
        "\n",
        "12. What is the standard normal distribution, and why is it important?\n",
        "  - The standard normal distribution is a special case of the normal distribution with a mean of 0 and a standard deviation of 1. It is important because it allows for standardization and comparison of data across different distributions.\n",
        "\n",
        "13. What is the Central Limit Theorem (CLT), and why is it critical in statistics?\n",
        "  - The Central Limit Theorem states that the distribution of sample means approximates a normal distribution as the sample size becomes large, regardless of the original population's distribution. It is critical because it allows for inference about population parameters.\n",
        "\n",
        "14. How does the Central Limit Theorem relate to the normal distribution?\n",
        "  - The CLT explains that, for sufficiently large samples, the sampling distribution of the mean will be approximately normally distributed, even if the population distribution is not normal.\n",
        "\n",
        "15. What is the application of Z statistics in hypothesis testing?\n",
        "  - Z statistics are used in hypothesis testing when the sample size is large (n > 30) or the population standard deviation is known. It helps determine if there is a significant difference between sample and population means.\n",
        "\n",
        "16. How do you calculate a Z-score, and what does it represent?\n",
        "  - A Z-score is calculated as: Z = (X - μ) / σ, where X is the observed value, μ is the mean, and σ is the standard deviation. It represents how many standard deviations an element is from the mean.\n",
        "\n",
        "17. What are point estimates and interval estimates in statistics?\n",
        "  - Point Estimates: Single values that estimate population parameters (e.g., sample mean).\n",
        "  - Interval Estimates: A range of values that estimate population parameters, usually with a specified level of confidence.\n",
        "\n",
        "18. What is the significance of confidence intervals in statistical analysis?\n",
        "  - Confidence intervals provide a range of values within which the true population parameter is expected to fall, with a given level of confidence (e.g., 95%).\n",
        "\n",
        "19. What is the relationship between a Z-score and a confidence interval?\n",
        "  - Z-scores are used to calculate confidence intervals, particularly for normally distributed data. The Z-score determines how many standard deviations away the interval lies from the mean.\n",
        "\n",
        "20. How are Z-scores used to compare different distributions?\n",
        "  - Z-scores standardize values from different distributions, allowing direct comparison by expressing each value in terms of standard deviations from its mean.\n",
        "\n",
        "21. What are the assumptions for applying the Central Limit Theorem?\n",
        "  - The main assumptions are:\n",
        "    - The samples must be independent.\n",
        "    - The sample size should be sufficiently large (n > 30 is commonly accepted).\n",
        "    - The population distribution should not be heavily skewed if the sample size is small.\n",
        "\n",
        "22. What is the concept of expected value in a probability distribution?\n",
        "  - The expected value of a random variable is the long-term average of its values over many independent repetitions of an experiment. It is calculated as the sum of all possible values weighted by their probabilities.\n",
        "\n",
        "23. How does a probability distribution relate to the expected outcome of a random variable?\n",
        "  - The probability distribution describes how probabilities are assigned to each possible outcome of the random variable. The expected outcome is essentially the weighted average of all those possible outcomes, considering their respective probabilities."
      ],
      "metadata": {
        "id": "Wbvjr45IrC1l"
      }
    },
    {
      "cell_type": "code",
      "source": [],
      "metadata": {
        "id": "OhhUPO3KuvnC"
      },
      "execution_count": null,
      "outputs": []
    }
  ]
}